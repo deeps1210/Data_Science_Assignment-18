{
 "cells": [
  {
   "cell_type": "code",
   "execution_count": 1,
   "metadata": {},
   "outputs": [],
   "source": [
    "#problem 1:"
   ]
  },
  {
   "cell_type": "code",
   "execution_count": 2,
   "metadata": {},
   "outputs": [],
   "source": [
    "#Is gender independent of education level? A random sample of 395 people were\n",
    "#surveyed and each person was asked to report the highest education level they\n",
    "#obtained. The data that resulted from the survey is summarized in the following table:\n",
    "#High School Bachelors Masters Ph.d. Total\n",
    "#Female 60 54 46 41 201\n",
    "#Male 40 44 53 57 194\n",
    "#Total 100 98 99 98 395\n",
    "#Question: Are gender and education level dependent at 5% level of significance? In\n",
    "#other words, given the data collected above, is there a relationship between the gender\n",
    "#of an individual and the level of education that they have obtained?"
   ]
  },
  {
   "cell_type": "code",
   "execution_count": 4,
   "metadata": {},
   "outputs": [],
   "source": [
    "#Null hypothesis is H0: Education level and gender are independent\n",
    "#Alternate hypothesis H1: Education level and gender are dependent"
   ]
  },
  {
   "cell_type": "code",
   "execution_count": 7,
   "metadata": {},
   "outputs": [],
   "source": [
    "female = [60,54,46,41]\n",
    "male = [40,44,53,57]"
   ]
  },
  {
   "cell_type": "code",
   "execution_count": 8,
   "metadata": {},
   "outputs": [],
   "source": [
    "import numpy as np\n",
    "from scipy import stats"
   ]
  },
  {
   "cell_type": "code",
   "execution_count": 9,
   "metadata": {},
   "outputs": [],
   "source": [
    "total = np.array([female,male])"
   ]
  },
  {
   "cell_type": "code",
   "execution_count": 12,
   "metadata": {},
   "outputs": [
    {
     "data": {
      "text/plain": [
       "array([[60, 54, 46, 41],\n",
       "       [40, 44, 53, 57]])"
      ]
     },
     "execution_count": 12,
     "metadata": {},
     "output_type": "execute_result"
    }
   ],
   "source": [
    "total"
   ]
  },
  {
   "cell_type": "code",
   "execution_count": 17,
   "metadata": {},
   "outputs": [
    {
     "data": {
      "text/plain": [
       "(8.006066246262538,\n",
       " 0.045886500891747214,\n",
       " 3,\n",
       " array([[50.88607595, 49.86835443, 50.37721519, 49.86835443],\n",
       "        [49.11392405, 48.13164557, 48.62278481, 48.13164557]]))"
      ]
     },
     "execution_count": 17,
     "metadata": {},
     "output_type": "execute_result"
    }
   ],
   "source": [
    "#performoing the chi-square test to determine whether the observed value of one variable\n",
    "#depends on the observed value of a different variable\n",
    "stats.chi2_contingency(total)"
   ]
  },
  {
   "cell_type": "code",
   "execution_count": 14,
   "metadata": {},
   "outputs": [
    {
     "name": "stdout",
     "output_type": "stream",
     "text": [
      "===Chi2 Stat===\n",
      "8.006066246262538\n",
      "\n",
      "\n",
      "===Degrees of Freedom===\n",
      "3\n",
      "\n",
      "\n",
      "===P-Value===\n",
      "0.045886500891747214\n",
      "\n",
      "\n",
      "===Contingency Table===\n",
      "[[50.88607595 49.86835443 50.37721519 49.86835443]\n",
      " [49.11392405 48.13164557 48.62278481 48.13164557]]\n"
     ]
    }
   ],
   "source": [
    "chi2_stat, p_val, dof, ex = stats.chi2_contingency(total)\n",
    "print(\"===Chi2 Stat===\")\n",
    "print(chi2_stat)\n",
    "print(\"\\n\")\n",
    "print(\"===Degrees of Freedom===\")\n",
    "print(dof)\n",
    "print(\"\\n\")\n",
    "print(\"===P-Value===\")\n",
    "print(p_val)\n",
    "print(\"\\n\")\n",
    "print(\"===Contingency Table===\")\n",
    "print(ex)"
   ]
  },
  {
   "cell_type": "code",
   "execution_count": 15,
   "metadata": {},
   "outputs": [],
   "source": [
    "#The critical value of χ2 with 3 degree of freedom is 7.815. Since 8.006 > 7.815, therefore we reject\n",
    "#the null hypothesis and conclude that the education level depends on gender at a 5% level of\n",
    "#significance"
   ]
  },
  {
   "cell_type": "code",
   "execution_count": 18,
   "metadata": {},
   "outputs": [],
   "source": [
    "#Problem 2:"
   ]
  },
  {
   "cell_type": "code",
   "execution_count": 19,
   "metadata": {},
   "outputs": [],
   "source": [
    "#Using the following data, perform a oneway analysis of variance using α=.05. Write up\n",
    "#the results in APA format.\n",
    "\n",
    "#[Group1: 51, 45, 33, 45, 67]\n",
    "#[Group2: 23, 43, 23, 43, 45]\n",
    "#[Group3: 56, 76, 74, 87, 56]"
   ]
  },
  {
   "cell_type": "code",
   "execution_count": 56,
   "metadata": {},
   "outputs": [],
   "source": [
    "G1 = [51,45,33,45,67]\n",
    "G2 = [23,43,23,43,45]\n",
    "G3 = [56,76,74,87,56]"
   ]
  },
  {
   "cell_type": "code",
   "execution_count": 57,
   "metadata": {},
   "outputs": [],
   "source": [
    "def sqdev(data):\n",
    "    return([(data-np.mean(data))**2 for i in data][0])"
   ]
  },
  {
   "cell_type": "code",
   "execution_count": 59,
   "metadata": {},
   "outputs": [],
   "source": [
    "g1= sqdev(G1)"
   ]
  },
  {
   "cell_type": "code",
   "execution_count": 60,
   "metadata": {},
   "outputs": [
    {
     "data": {
      "text/plain": [
       "array([  7.84,  10.24, 231.04,  10.24, 353.44])"
      ]
     },
     "execution_count": 60,
     "metadata": {},
     "output_type": "execute_result"
    }
   ],
   "source": [
    "g1"
   ]
  },
  {
   "cell_type": "code",
   "execution_count": 61,
   "metadata": {},
   "outputs": [],
   "source": [
    "g2 = sqdev(G2)"
   ]
  },
  {
   "cell_type": "code",
   "execution_count": 62,
   "metadata": {},
   "outputs": [
    {
     "data": {
      "text/plain": [
       "array([153.76,  57.76, 153.76,  57.76,  92.16])"
      ]
     },
     "execution_count": 62,
     "metadata": {},
     "output_type": "execute_result"
    }
   ],
   "source": [
    "g2"
   ]
  },
  {
   "cell_type": "code",
   "execution_count": 63,
   "metadata": {},
   "outputs": [],
   "source": [
    "g3 = sqdev(G3)"
   ]
  },
  {
   "cell_type": "code",
   "execution_count": 64,
   "metadata": {},
   "outputs": [
    {
     "data": {
      "text/plain": [
       "array([190.44,  38.44,  17.64, 295.84, 190.44])"
      ]
     },
     "execution_count": 64,
     "metadata": {},
     "output_type": "execute_result"
    }
   ],
   "source": [
    "g3"
   ]
  },
  {
   "cell_type": "code",
   "execution_count": 68,
   "metadata": {},
   "outputs": [],
   "source": [
    "#Sum of squared deviations from the mean (SS) for the groups:\n",
    "SS= [sum(g1), sum(g2),sum(g3)]"
   ]
  },
  {
   "cell_type": "code",
   "execution_count": 69,
   "metadata": {},
   "outputs": [
    {
     "data": {
      "text/plain": [
       "[612.8, 515.2, 732.8]"
      ]
     },
     "execution_count": 69,
     "metadata": {},
     "output_type": "execute_result"
    }
   ],
   "source": [
    "SS"
   ]
  },
  {
   "cell_type": "code",
   "execution_count": 75,
   "metadata": {},
   "outputs": [],
   "source": [
    "f, p = stats.f_oneway(G1,G2,G3)"
   ]
  },
  {
   "cell_type": "code",
   "execution_count": 78,
   "metadata": {},
   "outputs": [
    {
     "name": "stdout",
     "output_type": "stream",
     "text": [
      "F stat value is:\n",
      "9.747205503009463\n",
      "\n",
      "\n",
      "p < 0.05:\n",
      "0.0030597541434430556\n"
     ]
    }
   ],
   "source": [
    "print(\"F stat value is:\")\n",
    "print(f)\n",
    "print(\"\\n\")\n",
    "print(\"p < 0.05:\")\n",
    "print(p)"
   ]
  },
  {
   "cell_type": "code",
   "execution_count": 87,
   "metadata": {},
   "outputs": [],
   "source": [
    "#Since P value is less than 0.05 hence Null hypothesis is rejected"
   ]
  },
  {
   "cell_type": "code",
   "execution_count": 80,
   "metadata": {},
   "outputs": [],
   "source": [
    "#Problem 3:"
   ]
  },
  {
   "cell_type": "code",
   "execution_count": 81,
   "metadata": {},
   "outputs": [],
   "source": [
    "#Calculate F Test for given 10, 20, 30, 40, 50 and 5,10,15, 20, 25.\n",
    "#For 10, 20, 30, 40, 50:"
   ]
  },
  {
   "cell_type": "code",
   "execution_count": 82,
   "metadata": {},
   "outputs": [],
   "source": [
    "D1 = [10,20,30,40,50]\n",
    "D2 = [5,10,15,20,25]\n",
    "D3 = [10,20,30,40,50]"
   ]
  },
  {
   "cell_type": "code",
   "execution_count": 83,
   "metadata": {},
   "outputs": [],
   "source": [
    "f, p = stats.f_oneway(D1,D2,D3)"
   ]
  },
  {
   "cell_type": "code",
   "execution_count": 85,
   "metadata": {},
   "outputs": [
    {
     "name": "stdout",
     "output_type": "stream",
     "text": [
      "F stat value is:\n",
      "2.0\n",
      "\n",
      "\n",
      "p > 0.05:\n",
      "0.177978515625\n"
     ]
    }
   ],
   "source": [
    "print(\"F stat value is:\")\n",
    "print(f)\n",
    "print(\"\\n\")\n",
    "print(\"p > 0.05:\")\n",
    "print(p)"
   ]
  },
  {
   "cell_type": "code",
   "execution_count": 86,
   "metadata": {},
   "outputs": [],
   "source": [
    "#Since P value is greater than 0.05 hence we fail to reject Null hypothesis"
   ]
  },
  {
   "cell_type": "code",
   "execution_count": null,
   "metadata": {},
   "outputs": [],
   "source": []
  }
 ],
 "metadata": {
  "kernelspec": {
   "display_name": "Python 3",
   "language": "python",
   "name": "python3"
  },
  "language_info": {
   "codemirror_mode": {
    "name": "ipython",
    "version": 3
   },
   "file_extension": ".py",
   "mimetype": "text/x-python",
   "name": "python",
   "nbconvert_exporter": "python",
   "pygments_lexer": "ipython3",
   "version": "3.6.7"
  }
 },
 "nbformat": 4,
 "nbformat_minor": 2
}
